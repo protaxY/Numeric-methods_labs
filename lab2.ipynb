{
 "cells": [
  {
   "cell_type": "markdown",
   "metadata": {},
   "source": [
    "# Лаботраторная работа 2.1\n",
    "### Решение нелинейных уравнений"
   ]
  },
  {
   "cell_type": "code",
   "execution_count": 1,
   "metadata": {},
   "outputs": [],
   "source": [
    "import math\n",
    "import numpy as np\n",
    "import matplotlib.pyplot as plt"
   ]
  },
  {
   "cell_type": "markdown",
   "metadata": {},
   "source": [
    "### Метод Ньютона"
   ]
  },
  {
   "cell_type": "code",
   "execution_count": 2,
   "metadata": {},
   "outputs": [
    {
     "data": {
      "image/png": "[encoded data removed]",
      "text/plain": [
       "<Figure size 432x288 with 1 Axes>"
      ]
     },
     "metadata": {
      "needs_background": "light"
     },
     "output_type": "display_data"
    }
   ],
   "source": [
    "def f(x):\n",
    "    return np.log(x+2)-x**4+0.5\n",
    "\n",
    "x = np.linspace(0, 1.4, 50)\n",
    "plt.plot(x, f(x))\n",
    "plt.plot([0, 1.6], [0, 0])\n",
    "plt.title(r'$f(x)$')\n",
    "plt.show()"
   ]
  },
  {
   "cell_type": "markdown",
   "metadata": {},
   "source": [
    "$x^{(0)}=1.3$ \\\n",
    "$f(x^{(0)}) < 0$ и $f^{''}(x^{(0)}) < 0$ \\\n",
    "$f(x^{(0)})f^{''}(x^{(0)}) > 0$"
   ]
  },
  {
   "cell_type": "code",
   "execution_count": 3,
   "metadata": {},
   "outputs": [],
   "source": [
    "def Newton_method(f, df, x0, e):\n",
    "    counter = 0\n",
    "    x = x0\n",
    "    print('Итерация '+str(counter)+': x = '+str(x))\n",
    "    counter += 1\n",
    "    x_next = x-(f(x)/df(x))\n",
    "    print('Итерация '+str(counter)+': x = '+str(x_next))\n",
    "    counter += 1\n",
    "    while abs(x_next - x) >= e:\n",
    "        x = x_next\n",
    "        x_next = x-(f(x)/df(x))\n",
    "        print('Итерация '+str(counter)+': x = '+str(x_next))\n",
    "        counter += 1\n",
    "    return x_next"
   ]
  },
  {
   "cell_type": "code",
   "execution_count": 4,
   "metadata": {},
   "outputs": [
    {
     "name": "stdout",
     "output_type": "stream",
     "text": [
      "Итерация 0: x = 1.3\n",
      "Итерация 1: x = 1.1630310333409177\n",
      "Итерация 2: x = 1.133229753109308\n",
      "Итерация 3: x = 1.1319338486866162\n",
      "Итерация 4: x = 1.1319314744236986\n",
      "Корень уравнения с точностью 0.001: x = 1.1319314744236986\n"
     ]
    }
   ],
   "source": [
    "def df(x):\n",
    "    return 1/(x+2)-4*x**3\n",
    "\n",
    "x0 = 1.3\n",
    "e = 0.001\n",
    "\n",
    "answer = Newton_method(f, df, x0, e)\n",
    "print('Корень уравнения с точностью '+str(e)+': x = '+str(answer))"
   ]
  },
  {
   "cell_type": "markdown",
   "metadata": {},
   "source": [
    "### Метод простых итераций"
   ]
  },
  {
   "cell_type": "code",
   "execution_count": 5,
   "metadata": {},
   "outputs": [
    {
     "data": {
      "image/png": "[encoded data removed]",
      "text/plain": [
       "<Figure size 432x288 with 1 Axes>"
      ]
     },
     "metadata": {
      "needs_background": "light"
     },
     "output_type": "display_data"
    }
   ],
   "source": [
    "def phi(x):\n",
    "    return np.power(np.log(x+2)+0.5, 1/4)\n",
    "def dphi(x):\n",
    "    return 1/((4*x+8)*np.power(np.log(x+2)+0.5, 3/4))\n",
    "\n",
    "x = np.linspace(0, 1.4, 50)\n",
    "plt.plot(x, dphi(x))\n",
    "plt.title(r'$\\frac{\\delta \\varphi(x)}{\\delta x}$')\n",
    "plt.show()"
   ]
  },
  {
   "cell_type": "markdown",
   "metadata": {},
   "source": [
    "$\\exist q:|\\phi'(x)|\\leq q < 1 \\quad \\forall x \\in (a, b)$ \\\n",
    "$a = 1, b = 1.4$ \\\n",
    "$q = |\\phi'(1)|$ \\\n",
    "$q = \\frac{1}{(4+8)(ln(1+2)+0.5)^{3/4}} = 0.0586154$"
   ]
  },
  {
   "cell_type": "code",
   "execution_count": 6,
   "metadata": {},
   "outputs": [],
   "source": [
    "def Simple_iteration_method(phi, x0, q, e):\n",
    "    counter = 0\n",
    "    x = x0\n",
    "    print('Итерация '+str(counter)+': x = '+str(x))\n",
    "    counter += 1\n",
    "    x_next = phi(x)\n",
    "    print('Итерация '+str(counter)+': x = '+str(x_next))\n",
    "    counter += 1\n",
    "    while q/(1-q)*abs(x_next-x) > e:\n",
    "        x = x_next\n",
    "        x_next = phi(x)\n",
    "        print('Итерация '+str(counter)+': x = '+str(x_next))\n",
    "        counter += 1\n",
    "    return x_next"
   ]
  },
  {
   "cell_type": "code",
   "execution_count": 7,
   "metadata": {},
   "outputs": [
    {
     "name": "stdout",
     "output_type": "stream",
     "text": [
      "Итерация 0: x = 1.0\n",
      "Итерация 1: x = 1.1244387062030958\n",
      "Итерация 2: x = 1.1315183627844028\n",
      "Корень уравнения с точностью 0.001: x = 1.1315183627844028\n"
     ]
    }
   ],
   "source": [
    "x0 = 1.0\n",
    "q = 0.0586154\n",
    "e = 0.001\n",
    "\n",
    "answer = Simple_iteration_method(phi, x0, q, e)\n",
    "print('Корень уравнения с точностью '+str(e)+': x = '+str(answer))"
   ]
  },
  {
   "cell_type": "markdown",
   "metadata": {},
   "source": [
    "# Лаботраторная работа 2.2\n",
    "### Решение систем нелинейных уравнений"
   ]
  },
  {
   "cell_type": "code",
   "execution_count": 8,
   "metadata": {},
   "outputs": [
    {
     "data": {
      "image/png": "[encoded data removed]",
      "text/plain": [
       "<Figure size 432x288 with 1 Axes>"
      ]
     },
     "metadata": {
      "needs_background": "light"
     },
     "output_type": "display_data"
    }
   ],
   "source": [
    "def f1(x):\n",
    "    return 2*x[0]**2-x[0]+x[1]**2-1\n",
    "def f2(x):\n",
    "    return x[1]-np.tan(x[0])\n",
    "\n",
    "def df1x1(x):\n",
    "    return 2*2*x[0]-1\n",
    "def df1x2(x):\n",
    "    return 2*x[1]\n",
    "def df2x1(x):\n",
    "    return -1/(np.cos(x[0])**2)\n",
    "def df2x2(x):\n",
    "    return 1\n",
    "\n",
    "def f(x):\n",
    "    return np.array([f1(x), f2(x)])\n",
    "\n",
    "def J(x):\n",
    "    return np.array([[df1x1(x), df1x2(x)],\n",
    "                     [df2x1(x), df2x2(x)]])\n",
    "\n",
    "delta = 0.025\n",
    "xrange = np.arange(0, 1.4, delta)\n",
    "yrange = np.arange(0, 1.4, delta)\n",
    "X, Y = np.meshgrid(xrange,yrange)\n",
    "\n",
    "G = Y-np.tan(X)\n",
    "F = 2*X**2-X+Y**2-1\n",
    "plt.contour(X, Y, G, 0, colors='green')\n",
    "plt.contour(X, Y, F, [0], colors='blue')\n",
    "plt.show()"
   ]
  },
  {
   "cell_type": "markdown",
   "metadata": {},
   "source": [
    "### Метод Ньютона"
   ]
  },
  {
   "cell_type": "code",
   "execution_count": 9,
   "metadata": {},
   "outputs": [],
   "source": [
    "def Newton_method(f, J, x0, e):\n",
    "    counter = 0\n",
    "    x = x0\n",
    "    print('Итерация '+str(counter)+': x = '+str(x))\n",
    "    counter += 1\n",
    "    delta_x = np.linalg.solve(J(x), -f(x))\n",
    "    x_next = x+delta_x\n",
    "    print('Итерация '+str(counter)+': x = '+str(x_next))\n",
    "    counter += 1\n",
    "    while np.linalg.norm(x_next-x) > e:\n",
    "        x = x_next\n",
    "        delta_x = np.linalg.solve(J(x), -f(x))\n",
    "        x_next = x+delta_x\n",
    "        print('Итерация '+str(counter)+': x = '+str(x_next))\n",
    "        counter += 1\n",
    "    return x_next"
   ]
  },
  {
   "cell_type": "code",
   "execution_count": 10,
   "metadata": {},
   "outputs": [
    {
     "name": "stdout",
     "output_type": "stream",
     "text": [
      "Итерация 0: x = [0.7 0.8]\n",
      "Итерация 1: x = [0.70272068 0.84693924]\n",
      "Итерация 2: x = [0.70224688 0.84613628]\n",
      "Корень уравнения с точностью 0.001: x = [0.70224688 0.84613628]\n"
     ]
    }
   ],
   "source": [
    "x0 = np.array([0.7, 0.8])\n",
    "e = 0.001\n",
    "\n",
    "answer = Newton_method(f, J, x0, e)\n",
    "print('Корень уравнения с точностью '+str(e)+': x = '+str(answer))"
   ]
  },
  {
   "cell_type": "markdown",
   "metadata": {},
   "source": [
    "### Метод простых итераций"
   ]
  },
  {
   "cell_type": "markdown",
   "metadata": {},
   "source": [
    "Вычисление $\\varphi$ и $q$"
   ]
  },
  {
   "cell_type": "code",
   "execution_count": 11,
   "metadata": {},
   "outputs": [
    {
     "data": {
      "image/png": "[encoded data removed]",
      "text/plain": [
       "<Figure size 800x480 with 1 Axes>"
      ]
     },
     "metadata": {
      "needs_background": "light"
     },
     "output_type": "display_data"
    }
   ],
   "source": [
    "def f1(x):\n",
    "    return 2*x[0]**2-x[0]+x[1]**2-1\n",
    "def f2(x):\n",
    "    return x[1]-np.tan(x[0])\n",
    "x0 = np.array([1, 0.75])\n",
    "\n",
    "def df1x1(x):\n",
    "    return 2*2*x[0]-1\n",
    "def df1x2(x):\n",
    "    return 2*x[1]\n",
    "def df2x1(x):\n",
    "    return -1/(np.cos(x[0])**2)\n",
    "def df2x2(x):\n",
    "    return 1\n",
    "\n",
    "def f(x):\n",
    "    return np.array([f1(x), f2(x)])\n",
    "\n",
    "def J(x):\n",
    "    return np.array([[df1x1(x), df1x2(x)],\n",
    "                     [df2x1(x), df2x2(x)]])\n",
    "J_inv = np.linalg.inv(J(x0))\n",
    "\n",
    "def phi_1(X):\n",
    "    return X[0]-J_inv[0,0]*(2*X[0]**2-X[0]+X[1]**2-1)-J_inv[0,1]*(X[1]-np.tan(X[0]))\n",
    "def phi_2(X):\n",
    "    return X[1]-J_inv[1,0]*(2*X[0]**2-X[0]+X[1]**2-1)-J_inv[1,1]*(X[1]-np.tan(X[0]))\n",
    "\n",
    "def phi(X):\n",
    "    return np.array([phi_1(X), phi_2(X)])\n",
    "\n",
    "def abs_dphi_1x_1(x_1):\n",
    "    return abs(1-J_inv[0, 0]*(4*x_1-1)-J_inv[0, 1]*(-1/(np.cos(x_1)**2)))\n",
    "def abs_dphi_1x_2(x_2):\n",
    "    return abs(-J_inv[0, 0]*(2*x_2)-J_inv[0, 1])\n",
    "def abs_dphi_2x_1(x_1):\n",
    "    return abs(-J_inv[1, 0]*(4*x_1-1)-J_inv[1, 1]*(-1/(np.cos(x_1)**2)))\n",
    "def abs_dphi_2x_2(x_2):\n",
    "    return abs(1-J_inv[1, 0]*(2*x_2)-J_inv[1, 1])\n",
    "\n",
    "def Jphi(X):\n",
    "    return np.array([[abs_dphi_1x_1(X[0]), abs_dphi_1x_2(X[1])],\n",
    "                     [abs_dphi_2x_1(X[0]), abs_dphi_2x_2(X[1])]])\n",
    "def normJphi(X):\n",
    "    return max(Jphi(X)[0, 0]+Jphi(X)[0, 1], Jphi(X)[1, 0]+Jphi(X)[1, 1])\n",
    "\n",
    "x = np.linspace(0.7, 1, 50)\n",
    "plt.figure(figsize=(10, 6), dpi=80)\n",
    "plt.plot(x, abs_dphi_1x_1(x), label=r'$\\frac{d \\varphi_1}{d x_1}$')\n",
    "plt.plot(x, abs_dphi_1x_2(x), label=r'$\\frac{d \\varphi_1}{d x_2}$')\n",
    "plt.plot(x, abs_dphi_2x_1(x), label=r'$\\frac{d \\varphi_2}{d x_1}$')\n",
    "plt.plot(x, abs_dphi_2x_2(x), label=r'$\\frac{d \\varphi_2}{d x_2}$')\n",
    "plt.legend(loc=0, prop={'size': 15})\n",
    "plt.ylim([0, 1])\n",
    "plt.show()"
   ]
  },
  {
   "cell_type": "code",
   "execution_count": 18,
   "metadata": {},
   "outputs": [
    {
     "data": {
      "text/plain": [
       "0.5251852463129187"
      ]
     },
     "execution_count": 18,
     "metadata": {},
     "output_type": "execute_result"
    }
   ],
   "source": [
    "x = np.linspace(0.7, 1, 100)\n",
    "y = np.linspace(0.7, 1, 100)\n",
    "\n",
    "q = 0\n",
    "for x_i in x:\n",
    "    for y_j in y:\n",
    "        q = max(normJphi([x_i, y_j]), q)\n",
    "q"
   ]
  },
  {
   "cell_type": "code",
   "execution_count": 19,
   "metadata": {},
   "outputs": [],
   "source": [
    "def Simple_iteration_method(phi, x0, q, e):\n",
    "    counter = 0\n",
    "    x = x0\n",
    "    print('Итерация '+str(counter)+': x = '+str(x))\n",
    "    counter += 1\n",
    "    x_next = phi(x)\n",
    "    print('Итерация '+str(counter)+': x = '+str(x_next))\n",
    "    counter += 1\n",
    "    while q/(1-q)*np.linalg.norm(x_next-x) > e:\n",
    "        x = x_next\n",
    "        x_next = phi(x)\n",
    "        print('Итерация '+str(counter)+': x = '+str(x_next))\n",
    "        counter += 1\n",
    "    return x_next"
   ]
  },
  {
   "cell_type": "code",
   "execution_count": 20,
   "metadata": {},
   "outputs": [
    {
     "name": "stdout",
     "output_type": "stream",
     "text": [
      "Итерация 0: x = [1.   0.75]\n",
      "Итерация 1: x = [0.7820655 0.810869 ]\n",
      "Итерация 2: x = [0.73630304 0.83659663]\n",
      "Итерация 3: x = [0.71756691 0.84215209]\n",
      "Итерация 4: x = [0.70928652 0.84440769]\n",
      "Итерация 5: x = [0.70551001 0.84535233]\n",
      "Итерация 6: x = [0.70376541 0.84577533]\n",
      "Итерация 7: x = [0.70295473 0.84596868]\n",
      "Корень уравнения с точностью 0.001: x = [0.70295473 0.84596868]\n"
     ]
    }
   ],
   "source": [
    "x0 = np.array([1, 0.75])\n",
    "e = 0.001\n",
    "\n",
    "answer = Simple_iteration_method(phi, x0, q, e)\n",
    "print('Корень уравнения с точностью '+str(e)+': x = '+str(answer))"
   ]
  }
 ],
 "metadata": {
  "kernelspec": {
   "display_name": "Python 3.10.4 64-bit",
   "language": "python",
   "name": "python3"
  },
  "language_info": {
   "codemirror_mode": {
    "name": "ipython",
    "version": 3
   },
   "file_extension": ".py",
   "mimetype": "text/x-python",
   "name": "python",
   "nbconvert_exporter": "python",
   "pygments_lexer": "ipython3",
   "version": "3.10.4"
  },
  "orig_nbformat": 4,
  "vscode": {
   "interpreter": {
    "hash": "916dbcbb3f70747c44a77c7bcd40155683ae19c65e1c03b4aa3499c5328201f1"
   }
  }
 },
 "nbformat": 4,
 "nbformat_minor": 2
}
